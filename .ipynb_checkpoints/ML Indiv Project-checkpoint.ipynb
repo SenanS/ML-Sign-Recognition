{
 "cells": [
  {
   "cell_type": "code",
   "execution_count": 1,
   "id": "c9d871b5",
   "metadata": {},
   "outputs": [],
   "source": [
    "import os\n",
    "import pandas as pd\n",
    "import numpy as np\n",
    "import sklearn\n",
    "import cv2\n",
    "import tensorflow as tf\n",
    "\n",
    "from sklearn.preprocessing import StandardScaler\n",
    "from sklearn.metrics import confusion_matrix, accuracy_score, balanced_accuracy_score, f1_score\n",
    "from sklearn.model_selection import train_test_split\n",
    "\n",
    "from tensorflow import keras\n",
    "from tensorflow.keras.preprocessing.image import ImageDataGenerator, img_to_array, array_to_img, load_img\n",
    "from tensorflow.keras.utils import to_categorical\n",
    "from tensorflow.keras.applications.vgg16 import VGG16\n",
    "from tensorflow.keras.applications.vgg16 import preprocess_input\n",
    "from tensorflow.keras import layers, models\n",
    "\n",
    "from keras.models import load_model\n",
    "from PIL import Image\n",
    "from matplotlib import pyplot as plt\n"
   ]
  },
  {
   "cell_type": "code",
   "execution_count": 2,
   "id": "2eadbaa4",
   "metadata": {},
   "outputs": [],
   "source": [
    "im_width  = 50\n",
    "im_height = 50"
   ]
  },
  {
   "cell_type": "code",
   "execution_count": 3,
   "id": "ecd98cc2",
   "metadata": {},
   "outputs": [
    {
     "name": "stdout",
     "output_type": "stream",
     "text": [
      "['Meta', 'Meta.csv', 'Test', 'Test.csv', 'Train', 'Train.csv']\n"
     ]
    }
   ],
   "source": [
    "print(os.listdir('GTSRB Data'))\n",
    "\n",
    "df_meta  = pd.read_csv('GTSRB Data/Meta.csv', delimiter=',')\n",
    "df_test  = pd.read_csv('GTSRB Data/Test.csv', delimiter=',')\n",
    "df_train = pd.read_csv('GTSRB Data/Train.csv', delimiter=',')"
   ]
  },
  {
   "cell_type": "code",
   "execution_count": 4,
   "id": "a5639d30",
   "metadata": {},
   "outputs": [
    {
     "name": "stdout",
     "output_type": "stream",
     "text": [
      "Number of Classes:  43\n"
     ]
    }
   ],
   "source": [
    "print('Number of Classes: ',df_meta.shape[0])"
   ]
  },
  {
   "cell_type": "markdown",
   "id": "ec6e40fa",
   "metadata": {},
   "source": [
    "# TODO:\n",
    "* Pre-process images to VGG input size and feature range\n",
    "* Set up Training and validation sets (split training) (Keras Data generators)\n",
    "    \n",
    "    "
   ]
  },
  {
   "cell_type": "code",
   "execution_count": 5,
   "id": "4dfb408b",
   "metadata": {
    "scrolled": true
   },
   "outputs": [
    {
     "name": "stdout",
     "output_type": "stream",
     "text": [
      "Found 31368 images belonging to 43 classes.\n",
      "Found 7841 images belonging to 43 classes.\n"
     ]
    }
   ],
   "source": [
    "# Lower quality of images by 256 factor & set validation set to 20%\n",
    "ImDG_train = ImageDataGenerator(rescale=1./255, validation_split=0.2) \n",
    "data_train = ImDG_train.flow_from_directory('GTSRB Data/Train/',\n",
    "                                            target_size  = (im_width, im_height),\n",
    "                                            batch_size   = 150,\n",
    "                                            class_mode   ='categorical',\n",
    "                                            shuffle      = True,\n",
    "                                            color_mode   ='rgb',\n",
    "                                            interpolation='hamming',\n",
    "                                            subset       ='training'\n",
    "                                           )\n",
    "\n",
    "ImDG_valid = ImageDataGenerator(rescale=1./255, validation_split=0.2) \n",
    "data_valid = ImDG_train.flow_from_directory('GTSRB Data/Train/',\n",
    "                                            target_size  = (im_width, im_height),\n",
    "                                            batch_size   = 150,\n",
    "                                            class_mode   ='categorical',\n",
    "                                            shuffle      = True,\n",
    "                                            color_mode   ='rgb',\n",
    "                                            interpolation='hamming',\n",
    "                                            subset       ='validation'\n",
    "                                           )\n"
   ]
  },
  {
   "cell_type": "code",
   "execution_count": 8,
   "id": "b495862a",
   "metadata": {},
   "outputs": [],
   "source": [
    "test_labels = df_test[\"ClassId\"].values\n",
    "test_imgs   = df_test[\"Path\"].values\n",
    "\n",
    "data =[]\n",
    "for img in test_imgs:\n",
    "    try:\n",
    "        test_im         = cv2.imread('GTSRB Data/'+test_imgs[0])\n",
    "        image_fromarray = Image.fromarray(test_im, mode='RGB')\n",
    "        resize_image    = image_fromarray.resize((im_height, im_width))\n",
    "        data.append(np.array(resize_image))\n",
    "    except:\n",
    "        print(\"Error in \" + img)\n",
    "\n",
    "data_test = np.array(data)\n",
    "data_test = data_test/255"
   ]
  },
  {
   "cell_type": "code",
   "execution_count": 9,
   "id": "d3ea2a4c",
   "metadata": {
    "scrolled": false
   },
   "outputs": [],
   "source": [
    "# Import model without a classification layer (for transfer learning)\n",
    "base_model = VGG16(weights=\"imagenet\", include_top=False, input_shape=(im_width, im_height, 3))\n",
    "# Freeze existing model\n",
    "base_model.trainable = False"
   ]
  },
  {
   "cell_type": "code",
   "execution_count": 10,
   "id": "c037f206",
   "metadata": {},
   "outputs": [
    {
     "name": "stdout",
     "output_type": "stream",
     "text": [
      "Model: \"vgg16\"\n",
      "_________________________________________________________________\n",
      " Layer (type)                Output Shape              Param #   \n",
      "=================================================================\n",
      " input_1 (InputLayer)        [(None, 50, 50, 3)]       0         \n",
      "                                                                 \n",
      " block1_conv1 (Conv2D)       (None, 50, 50, 64)        1792      \n",
      "                                                                 \n",
      " block1_conv2 (Conv2D)       (None, 50, 50, 64)        36928     \n",
      "                                                                 \n",
      " block1_pool (MaxPooling2D)  (None, 25, 25, 64)        0         \n",
      "                                                                 \n",
      " block2_conv1 (Conv2D)       (None, 25, 25, 128)       73856     \n",
      "                                                                 \n",
      " block2_conv2 (Conv2D)       (None, 25, 25, 128)       147584    \n",
      "                                                                 \n",
      " block2_pool (MaxPooling2D)  (None, 12, 12, 128)       0         \n",
      "                                                                 \n",
      " block3_conv1 (Conv2D)       (None, 12, 12, 256)       295168    \n",
      "                                                                 \n",
      " block3_conv2 (Conv2D)       (None, 12, 12, 256)       590080    \n",
      "                                                                 \n",
      " block3_conv3 (Conv2D)       (None, 12, 12, 256)       590080    \n",
      "                                                                 \n",
      " block3_pool (MaxPooling2D)  (None, 6, 6, 256)         0         \n",
      "                                                                 \n",
      " block4_conv1 (Conv2D)       (None, 6, 6, 512)         1180160   \n",
      "                                                                 \n",
      " block4_conv2 (Conv2D)       (None, 6, 6, 512)         2359808   \n",
      "                                                                 \n",
      " block4_conv3 (Conv2D)       (None, 6, 6, 512)         2359808   \n",
      "                                                                 \n",
      " block4_pool (MaxPooling2D)  (None, 3, 3, 512)         0         \n",
      "                                                                 \n",
      " block5_conv1 (Conv2D)       (None, 3, 3, 512)         2359808   \n",
      "                                                                 \n",
      " block5_conv2 (Conv2D)       (None, 3, 3, 512)         2359808   \n",
      "                                                                 \n",
      " block5_conv3 (Conv2D)       (None, 3, 3, 512)         2359808   \n",
      "                                                                 \n",
      " block5_pool (MaxPooling2D)  (None, 1, 1, 512)         0         \n",
      "                                                                 \n",
      "=================================================================\n",
      "Total params: 14,714,688\n",
      "Trainable params: 0\n",
      "Non-trainable params: 14,714,688\n",
      "_________________________________________________________________\n"
     ]
    }
   ],
   "source": [
    "base_model.summary()\n"
   ]
  },
  {
   "cell_type": "code",
   "execution_count": 11,
   "id": "c64cdebc",
   "metadata": {},
   "outputs": [],
   "source": [
    "flatten_layer = layers.Flatten()\n",
    "dense_layer = layers.Dense(512, activation='sigmoid')\n",
    "prediction_layer = layers.Dense(43, activation='softmax')\n",
    "\n",
    "\n",
    "model = models.Sequential([\n",
    "    base_model,\n",
    "    flatten_layer,\n",
    "    dense_layer,\n",
    "    prediction_layer\n",
    "])"
   ]
  },
  {
   "cell_type": "code",
   "execution_count": 12,
   "id": "a03c4189",
   "metadata": {
    "scrolled": true
   },
   "outputs": [
    {
     "name": "stdout",
     "output_type": "stream",
     "text": [
      "Epoch 1/10\n",
      "210/210 [==============================] - 368s 2s/step - loss: 2.3435 - accuracy: 0.3652 - val_loss: 2.0329 - val_accuracy: 0.3825\n",
      "Epoch 2/10\n",
      "210/210 [==============================] - 146s 695ms/step - loss: 1.6100 - accuracy: 0.5262 - val_loss: 1.8133 - val_accuracy: 0.4320\n",
      "Epoch 3/10\n",
      "210/210 [==============================] - 146s 694ms/step - loss: 1.3445 - accuracy: 0.6031 - val_loss: 1.7097 - val_accuracy: 0.4808\n",
      "Epoch 4/10\n",
      "210/210 [==============================] - 144s 687ms/step - loss: 1.1743 - accuracy: 0.6502 - val_loss: 1.6699 - val_accuracy: 0.4951\n",
      "Epoch 5/10\n",
      "210/210 [==============================] - 144s 687ms/step - loss: 1.0487 - accuracy: 0.6873 - val_loss: 1.6623 - val_accuracy: 0.4993\n",
      "Epoch 6/10\n",
      "210/210 [==============================] - 144s 686ms/step - loss: 0.9553 - accuracy: 0.7162 - val_loss: 1.6480 - val_accuracy: 0.5103\n",
      "Epoch 7/10\n",
      "210/210 [==============================] - 144s 686ms/step - loss: 0.8786 - accuracy: 0.7378 - val_loss: 1.6763 - val_accuracy: 0.5115\n",
      "Epoch 8/10\n",
      "210/210 [==============================] - 144s 685ms/step - loss: 0.8137 - accuracy: 0.7562 - val_loss: 1.6635 - val_accuracy: 0.5163\n",
      "Epoch 9/10\n",
      "210/210 [==============================] - 145s 692ms/step - loss: 0.7622 - accuracy: 0.7727 - val_loss: 1.6665 - val_accuracy: 0.5234\n",
      "Epoch 10/10\n",
      "210/210 [==============================] - 144s 685ms/step - loss: 0.7135 - accuracy: 0.7883 - val_loss: 1.7048 - val_accuracy: 0.5206\n"
     ]
    },
    {
     "data": {
      "text/plain": [
       "<keras.callbacks.History at 0x1776634ec70>"
      ]
     },
     "execution_count": 12,
     "metadata": {},
     "output_type": "execute_result"
    }
   ],
   "source": [
    "from tensorflow.keras.callbacks import EarlyStopping\n",
    "\n",
    "model.compile(\n",
    "    optimizer='adam',\n",
    "    loss='categorical_crossentropy',\n",
    "    metrics=['accuracy'],\n",
    ")\n",
    "\n",
    "\n",
    "es = EarlyStopping(monitor='val_accuracy', mode='max', patience=5,  restore_best_weights=True)\n",
    "\n",
    "model.fit(data_train, epochs=10, validation_data=data_valid, batch_size=32, callbacks=[es])"
   ]
  },
  {
   "cell_type": "code",
   "execution_count": 14,
   "id": "50e5834a",
   "metadata": {},
   "outputs": [],
   "source": [
    "model.save(\"VGG10-32.h5\")"
   ]
  },
  {
   "cell_type": "code",
   "execution_count": 13,
   "id": "4995fb23",
   "metadata": {},
   "outputs": [
    {
     "name": "stdout",
     "output_type": "stream",
     "text": [
      "395/395 [==============================] - 50s 127ms/step\n",
      "Test Data accuracy:  1.187648456057007\n"
     ]
    }
   ],
   "source": [
    "test_labels = df_test[\"ClassId\"].values\n",
    "\n",
    "pred = model.predict(data_test)\n",
    "pred = [int(list(data_train.class_indices.keys())[i]) for i in pred.argmax(axis=-1)]\n",
    "print('Test Data accuracy: ', accuracy_score(test_labels, pred)*100)"
   ]
  }
 ],
 "metadata": {
  "kernelspec": {
   "display_name": "Python 3 (ipykernel)",
   "language": "python",
   "name": "python3"
  },
  "language_info": {
   "codemirror_mode": {
    "name": "ipython",
    "version": 3
   },
   "file_extension": ".py",
   "mimetype": "text/x-python",
   "name": "python",
   "nbconvert_exporter": "python",
   "pygments_lexer": "ipython3",
   "version": "3.9.13"
  }
 },
 "nbformat": 4,
 "nbformat_minor": 5
}
