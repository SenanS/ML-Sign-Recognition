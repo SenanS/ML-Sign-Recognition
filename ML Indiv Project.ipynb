{
 "cells": [
  {
   "cell_type": "code",
   "execution_count": null,
   "id": "a6d9ef32",
   "metadata": {},
   "outputs": [],
   "source": [
    "import pandas as pd\n",
    "import numpy as np\n",
    "import sklearn\n",
    "from sklearn.metrics import confusion_matrix, accuracy_score, balanced_accuracy_score, f1_score\n",
    "from sklearn.preprocessing import OrdinalEncoder, OneHotEncoder\n",
    "from sklearn.model_selection import train_test_split\n"
   ]
  },
  {
   "cell_type": "code",
   "execution_count": null,
   "id": "b9ec9238",
   "metadata": {},
   "outputs": [],
   "source": [
    "#Download and concatenation of data\n",
    "data11 = pd.read_csv('opel_corsa_01.csv', delimiter=';')\n",
    "data12 = pd.read_csv('opel_corsa_02.csv', delimiter=';')\n",
    "data21 = pd.read_csv('peugeot_207_01.csv', delimiter=';')\n",
    "data22 = pd.read_csv('peugeot_207_02.csv', delimiter=';')\n",
    "data   = pd.concat([data11, data12, data21, data22], ignore_index=True)\n",
    "\n",
    "data"
   ]
  }
 ],
 "metadata": {
  "kernelspec": {
   "display_name": "Python 3 (ipykernel)",
   "language": "python",
   "name": "python3"
  },
  "language_info": {
   "codemirror_mode": {
    "name": "ipython",
    "version": 3
   },
   "file_extension": ".py",
   "mimetype": "text/x-python",
   "name": "python",
   "nbconvert_exporter": "python",
   "pygments_lexer": "ipython3",
   "version": "3.9.13"
  }
 },
 "nbformat": 4,
 "nbformat_minor": 5
}
